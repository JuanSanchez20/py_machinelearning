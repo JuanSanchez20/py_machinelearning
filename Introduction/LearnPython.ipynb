{
 "cells": [
  {
   "cell_type": "markdown",
   "id": "fa56debe-0a5e-4ccb-bc2c-52e95576db5e",
   "metadata": {},
   "source": [
    "# INTRODUCTION \n",
    "## Datos.\n",
    "- Los datos son colecciones de información que decriben hechos, eventos, objetos o conceptos.\n",
    "- Son la base para analizar, tomar desciciones o entrenar modelos.\n",
    "\n",
    "## Tipos de Datos.\n",
    "* [int, float]: Son datos de tipo numerico.\n",
    "* [str]: Dato de tipo cadena o texto.\n",
    "* [bool]: Dato de tipo lógico, verdadero(1) o falso(0).\n",
    "* [datetime]: Un tipo de dato externo que usa la libreria datetima para un dato de tipo fecha.\n",
    "\n",
    "## Estructura de Datos.\n",
    "* Listas(list): Son colecciones ordenadas y mutables. EJEMPLO: [1, 2, 'Pancho']\n",
    "* Tuplas(tuple): Son colecciones ordenadas e inmutables. EJEMPLO: (1, 2, 'Pepe')\n",
    "* Diccionarios(dic): Almacenan pares (claves-valor). EJEMPLO: ['P': 'Pancho', 'Pe': 'Pepe']"
   ]
  }
 ],
 "metadata": {
  "kernelspec": {
   "display_name": "",
   "name": ""
  },
  "language_info": {
   "name": ""
  }
 },
 "nbformat": 4,
 "nbformat_minor": 5
}
